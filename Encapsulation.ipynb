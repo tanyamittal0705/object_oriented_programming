{
 "cells": [
  {
   "cell_type": "markdown",
   "id": "1a968d19-90e2-4a1b-b00c-a6e22f7499a6",
   "metadata": {},
   "source": [
    "# encapsulation=hiding data"
   ]
  },
  {
   "cell_type": "code",
   "execution_count": 14,
   "id": "4c34c839-4261-4ad5-91cf-82d2a81e441f",
   "metadata": {},
   "outputs": [],
   "source": [
    "#hiding instance variable\n",
    "class ATM:\n",
    "    def __init__(self):\n",
    "        self.__pin=3109                          #hiding pin\n",
    "        self.balance=2000\n",
    "    def withdrawal(self):\n",
    "        print(\"Welcome\")\n",
    "    def change_pin(self):\n",
    "        self.__pin=input(\"Enter your new pin\")\n",
    "        print(\"pin change successfully\")\n",
    "    def show_pin(self):\n",
    "        print(\"Your pin is {}\".format(self.__pin))"
   ]
  },
  {
   "cell_type": "code",
   "execution_count": 13,
   "id": "fcffbb4a-75ff-4c6b-990d-8596eda46484",
   "metadata": {},
   "outputs": [],
   "source": [
    "Tanya=ATM()"
   ]
  },
  {
   "cell_type": "code",
   "execution_count": 5,
   "id": "56277f20-3ec7-472d-94b9-3a9a54fd8777",
   "metadata": {},
   "outputs": [
    {
     "ename": "AttributeError",
     "evalue": "'ATM' object has no attribute 'pin'",
     "output_type": "error",
     "traceback": [
      "\u001b[1;31m---------------------------------------------------------------------------\u001b[0m",
      "\u001b[1;31mAttributeError\u001b[0m                            Traceback (most recent call last)",
      "Cell \u001b[1;32mIn[5], line 1\u001b[0m\n\u001b[1;32m----> 1\u001b[0m \u001b[43mTanya\u001b[49m\u001b[38;5;241;43m.\u001b[39;49m\u001b[43mpin\u001b[49m\n",
      "\u001b[1;31mAttributeError\u001b[0m: 'ATM' object has no attribute 'pin'"
     ]
    }
   ],
   "source": [
    "Tanya.pin"
   ]
  },
  {
   "cell_type": "code",
   "execution_count": 6,
   "id": "c31e54ba-0a2b-4118-b552-6b5d65de2602",
   "metadata": {},
   "outputs": [
    {
     "name": "stdout",
     "output_type": "stream",
     "text": [
      "Your pin is 3109\n"
     ]
    }
   ],
   "source": [
    "Tanya.show_pin()"
   ]
  },
  {
   "cell_type": "code",
   "execution_count": 7,
   "id": "7acab53f-3112-4aa6-91d9-9e693ca7565d",
   "metadata": {},
   "outputs": [
    {
     "data": {
      "text/plain": [
       "3109"
      ]
     },
     "execution_count": 7,
     "metadata": {},
     "output_type": "execute_result"
    }
   ],
   "source": [
    "#unhide pin\n",
    "Tanya._ATM__pin"
   ]
  },
  {
   "cell_type": "code",
   "execution_count": 9,
   "id": "5117788a-fd43-4410-a180-4d5428d023f8",
   "metadata": {},
   "outputs": [
    {
     "name": "stdin",
     "output_type": "stream",
     "text": [
      "Enter your new pin 931\n"
     ]
    },
    {
     "name": "stdout",
     "output_type": "stream",
     "text": [
      "pin change successfully\n"
     ]
    }
   ],
   "source": [
    "Tanya.change_pin()"
   ]
  },
  {
   "cell_type": "code",
   "execution_count": 11,
   "id": "56e1f30c-c370-41ce-a20e-03549f6124d1",
   "metadata": {},
   "outputs": [
    {
     "name": "stdout",
     "output_type": "stream",
     "text": [
      "Your pin is 931\n"
     ]
    }
   ],
   "source": [
    "Tanya.show_pin()                       # pin update"
   ]
  },
  {
   "cell_type": "code",
   "execution_count": 15,
   "id": "daa330c6-6252-4874-a126-692f12407ea8",
   "metadata": {},
   "outputs": [],
   "source": [
    "#hiding method\n",
    "class ATM:\n",
    "    def __init__(self):\n",
    "        self.pin=3109                          #hiding showpin\n",
    "        self.balance=2000\n",
    "    def withdrawal(self):\n",
    "        print(\"Welcome\")\n",
    "    def change_pin(self):\n",
    "        self.pin=input(\"Enter your new pin\")\n",
    "        print(\"pin change successfully\")\n",
    "    def __show_pin(self):\n",
    "        print(\"Your pin is {}\".format(self.pin))"
   ]
  },
  {
   "cell_type": "code",
   "execution_count": 16,
   "id": "df67f831-1e35-4c48-8c2d-7b6781f0eb34",
   "metadata": {},
   "outputs": [],
   "source": [
    "tanya=ATM()"
   ]
  },
  {
   "cell_type": "code",
   "execution_count": 17,
   "id": "b7e38182-60ee-4db2-813e-2307b37e2126",
   "metadata": {},
   "outputs": [
    {
     "ename": "AttributeError",
     "evalue": "'ATM' object has no attribute 'show_pin'",
     "output_type": "error",
     "traceback": [
      "\u001b[1;31m---------------------------------------------------------------------------\u001b[0m",
      "\u001b[1;31mAttributeError\u001b[0m                            Traceback (most recent call last)",
      "Cell \u001b[1;32mIn[17], line 1\u001b[0m\n\u001b[1;32m----> 1\u001b[0m \u001b[43mtanya\u001b[49m\u001b[38;5;241;43m.\u001b[39;49m\u001b[43mshow_pin\u001b[49m()\n",
      "\u001b[1;31mAttributeError\u001b[0m: 'ATM' object has no attribute 'show_pin'"
     ]
    }
   ],
   "source": [
    "tanya.show_pin()"
   ]
  },
  {
   "cell_type": "code",
   "execution_count": 18,
   "id": "4dbb7e71-dea3-46c6-924b-fe6a6dd91da5",
   "metadata": {},
   "outputs": [
    {
     "name": "stdout",
     "output_type": "stream",
     "text": [
      "Your pin is 3109\n"
     ]
    }
   ],
   "source": [
    "tanya._ATM__show_pin()"
   ]
  },
  {
   "cell_type": "code",
   "execution_count": 19,
   "id": "8dad6850-b0d8-49e0-bea4-f17f68b77f0a",
   "metadata": {},
   "outputs": [
    {
     "name": "stdin",
     "output_type": "stream",
     "text": [
      "Enter your new pin 931\n"
     ]
    },
    {
     "name": "stdout",
     "output_type": "stream",
     "text": [
      "pin change successfully\n"
     ]
    }
   ],
   "source": [
    "tanya.change_pin()"
   ]
  },
  {
   "cell_type": "code",
   "execution_count": 20,
   "id": "6e605e0a-4ff8-46c5-aaad-3ba7d4289aec",
   "metadata": {},
   "outputs": [
    {
     "name": "stdout",
     "output_type": "stream",
     "text": [
      "Your pin is 931\n"
     ]
    }
   ],
   "source": [
    "tanya._ATM__show_pin()"
   ]
  },
  {
   "cell_type": "code",
   "execution_count": null,
   "id": "3eafbd23-2b82-4576-a004-ac6072cc7eee",
   "metadata": {},
   "outputs": [],
   "source": []
  }
 ],
 "metadata": {
  "kernelspec": {
   "display_name": "Python 3 (ipykernel)",
   "language": "python",
   "name": "python3"
  },
  "language_info": {
   "codemirror_mode": {
    "name": "ipython",
    "version": 3
   },
   "file_extension": ".py",
   "mimetype": "text/x-python",
   "name": "python",
   "nbconvert_exporter": "python",
   "pygments_lexer": "ipython3",
   "version": "3.11.5"
  }
 },
 "nbformat": 4,
 "nbformat_minor": 5
}
