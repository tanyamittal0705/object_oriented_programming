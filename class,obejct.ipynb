{
 "cells": [
  {
   "cell_type": "markdown",
   "id": "b96693e2-4a40-41ad-bd4a-fa122a7e7589",
   "metadata": {},
   "source": [
    "# oops"
   ]
  },
  {
   "cell_type": "code",
   "execution_count": 3,
   "id": "0c8fc419-126b-4249-a6a8-f7771db1bd0c",
   "metadata": {},
   "outputs": [],
   "source": [
    "class ATM:\n",
    "    def __init__(self):\n",
    "        self.pin=3109\n",
    "        self.balance=2000"
   ]
  },
  {
   "cell_type": "code",
   "execution_count": 4,
   "id": "72ea1990-503b-4528-9530-cb755148ffba",
   "metadata": {},
   "outputs": [],
   "source": [
    "tanya_kotak=ATM()"
   ]
  },
  {
   "cell_type": "code",
   "execution_count": 5,
   "id": "14e9f8ed-0305-455d-83ce-ab2131ec775f",
   "metadata": {},
   "outputs": [
    {
     "data": {
      "text/plain": [
       "2000"
      ]
     },
     "execution_count": 5,
     "metadata": {},
     "output_type": "execute_result"
    }
   ],
   "source": [
    "tanya_kotak.balance"
   ]
  },
  {
   "cell_type": "code",
   "execution_count": 7,
   "id": "f128bc4a-482c-4ecc-9d1f-48bc848d83f7",
   "metadata": {},
   "outputs": [
    {
     "data": {
      "text/plain": [
       "3109"
      ]
     },
     "execution_count": 7,
     "metadata": {},
     "output_type": "execute_result"
    }
   ],
   "source": [
    "tanya_kotak.pin"
   ]
  },
  {
   "cell_type": "code",
   "execution_count": 13,
   "id": "fcc854cc-bba2-4e5f-9563-928096ddaae8",
   "metadata": {},
   "outputs": [],
   "source": [
    "tanya_hdfc=ATM()"
   ]
  },
  {
   "cell_type": "code",
   "execution_count": 14,
   "id": "473797a6-4162-4464-b51f-d37438b21d21",
   "metadata": {},
   "outputs": [],
   "source": [
    "tanya_hdfc.balance=3000"
   ]
  },
  {
   "cell_type": "code",
   "execution_count": 15,
   "id": "9849e0b2-758e-4f87-b022-7713455b372c",
   "metadata": {},
   "outputs": [],
   "source": [
    "tanya_hdfc.pin=931"
   ]
  },
  {
   "cell_type": "code",
   "execution_count": 16,
   "id": "36b17aeb-1189-49b7-8f0d-606e17c801f2",
   "metadata": {},
   "outputs": [
    {
     "data": {
      "text/plain": [
       "3000"
      ]
     },
     "execution_count": 16,
     "metadata": {},
     "output_type": "execute_result"
    }
   ],
   "source": [
    "tanya_hdfc.balance"
   ]
  },
  {
   "cell_type": "code",
   "execution_count": 17,
   "id": "05a40726-d3a2-4ac6-b088-c4fa16ba07bf",
   "metadata": {},
   "outputs": [
    {
     "data": {
      "text/plain": [
       "931"
      ]
     },
     "execution_count": 17,
     "metadata": {},
     "output_type": "execute_result"
    }
   ],
   "source": [
    "tanya_hdfc.pin"
   ]
  },
  {
   "cell_type": "code",
   "execution_count": 13,
   "id": "f05a0665-674e-4114-9d7f-379c64bc9b64",
   "metadata": {},
   "outputs": [],
   "source": [
    "class ATM:\n",
    "    a=0\n",
    "    def __init__(self):\n",
    "        self.pin=3109\n",
    "        self.balance=2000\n",
    "        print(id(self))\n",
    "    def withdrawal(self):\n",
    "        print(\"Welcome\")"
   ]
  },
  {
   "cell_type": "code",
   "execution_count": 14,
   "id": "2d3eea26-5865-49b3-ac33-0af3d72ef67f",
   "metadata": {},
   "outputs": [
    {
     "name": "stdout",
     "output_type": "stream",
     "text": [
      "2186302854160\n"
     ]
    }
   ],
   "source": [
    "kushal=ATM()                                                    #self=kushal"
   ]
  },
  {
   "cell_type": "code",
   "execution_count": 15,
   "id": "6f99ff8c-1c6f-488f-972a-e3495dfe079d",
   "metadata": {},
   "outputs": [
    {
     "name": "stdout",
     "output_type": "stream",
     "text": [
      "2186302854160\n"
     ]
    }
   ],
   "source": [
    "print(id(kushal))"
   ]
  },
  {
   "cell_type": "code",
   "execution_count": 16,
   "id": "ffabe9f4-1b4c-4385-a40c-0e655a747305",
   "metadata": {},
   "outputs": [
    {
     "data": {
      "text/plain": [
       "0"
      ]
     },
     "execution_count": 16,
     "metadata": {},
     "output_type": "execute_result"
    }
   ],
   "source": [
    "kushal.a"
   ]
  },
  {
   "cell_type": "code",
   "execution_count": 17,
   "id": "bc33802b-fe49-48db-a4be-83e19e2ecb35",
   "metadata": {},
   "outputs": [
    {
     "name": "stdout",
     "output_type": "stream",
     "text": [
      "Welcome\n"
     ]
    }
   ],
   "source": [
    "kushal.withdrawal()"
   ]
  },
  {
   "cell_type": "code",
   "execution_count": 18,
   "id": "cd896d56-9c8e-4f1b-b60e-d57a5851b37a",
   "metadata": {},
   "outputs": [
    {
     "name": "stdout",
     "output_type": "stream",
     "text": [
      "Welcome\n"
     ]
    }
   ],
   "source": [
    "ATM.withdrawal(kushal)"
   ]
  },
  {
   "cell_type": "code",
   "execution_count": 3,
   "id": "0543192f-153a-4e0f-b1c5-91f7d2f7ed81",
   "metadata": {},
   "outputs": [],
   "source": [
    "class ATM:\n",
    "    a=0\n",
    "    def __init__(self):\n",
    "        self.pin=3109\n",
    "        self.balance=2000\n",
    "        print(id(self))\n",
    "    def withdrawal(self):\n",
    "        print(\"Welcome\")\n",
    "    def change_pin(self):\n",
    "        self.pin=input(\"Enter your new pin\")\n",
    "        print(\"pin change successfully\")"
   ]
  },
  {
   "cell_type": "code",
   "execution_count": 4,
   "id": "d860a99f-175f-4916-921e-945522df0c01",
   "metadata": {},
   "outputs": [
    {
     "name": "stdout",
     "output_type": "stream",
     "text": [
      "2628916629136\n"
     ]
    }
   ],
   "source": [
    "ansh=ATM()"
   ]
  },
  {
   "cell_type": "code",
   "execution_count": 6,
   "id": "ef269645-3f10-4da2-9137-6524a43d38cf",
   "metadata": {},
   "outputs": [
    {
     "name": "stdin",
     "output_type": "stream",
     "text": [
      "Enter your new pin 931\n"
     ]
    },
    {
     "name": "stdout",
     "output_type": "stream",
     "text": [
      "pin change successfully\n"
     ]
    }
   ],
   "source": [
    "ansh.change_pin()"
   ]
  },
  {
   "cell_type": "code",
   "execution_count": 11,
   "id": "1cef3a4a-722a-4732-b359-8eb092c8a924",
   "metadata": {},
   "outputs": [],
   "source": [
    "class ATM:\n",
    "    def __init__(self):\n",
    "        self.pin=3109\n",
    "        self.balance=2000\n",
    "        print(id(self))\n",
    "    def withdrawal(self):\n",
    "        print(\"Welcome\")\n",
    "    def change_pin(self):\n",
    "        self.pin=input(\"Enter your new pin\")\n",
    "        print(\"pin change successfully\")\n",
    "    def show_pin(self):\n",
    "        print(\"Your pin is {}\".format(self.pin))"
   ]
  },
  {
   "cell_type": "code",
   "execution_count": 8,
   "id": "fed0c474-09d8-4021-9d48-a2b835c7534f",
   "metadata": {},
   "outputs": [
    {
     "name": "stdout",
     "output_type": "stream",
     "text": [
      "2628916672976\n"
     ]
    }
   ],
   "source": [
    "tanya=ATM()"
   ]
  },
  {
   "cell_type": "code",
   "execution_count": 13,
   "id": "98e2ecfb-44d0-40e3-bf44-7237a9259d00",
   "metadata": {},
   "outputs": [
    {
     "name": "stdin",
     "output_type": "stream",
     "text": [
      "Enter your new pin 931\n"
     ]
    },
    {
     "name": "stdout",
     "output_type": "stream",
     "text": [
      "pin change successfully\n"
     ]
    }
   ],
   "source": [
    "tanya.change_pin()"
   ]
  },
  {
   "cell_type": "code",
   "execution_count": 14,
   "id": "a817ba89-dbb8-4e6d-a1ac-3817ff24ab9d",
   "metadata": {},
   "outputs": [
    {
     "name": "stdout",
     "output_type": "stream",
     "text": [
      "Your pin is 931\n"
     ]
    }
   ],
   "source": [
    "tanya.show_pin()"
   ]
  },
  {
   "cell_type": "code",
   "execution_count": 23,
   "id": "0d1c91b5-c2c4-4d5d-a45c-398ad836e7ec",
   "metadata": {},
   "outputs": [],
   "source": [
    "class ATM:\n",
    "    def __init__ (self,pin,balance):\n",
    "        self.pin=pin\n",
    "        self.balance=balance\n",
    "    def change_pin(self):\n",
    "        self.pin=input(\"enter your new pin\")\n",
    "        print(\"pin change successfully\")\n",
    "    def show_pin(self):\n",
    "        print(\"your pin is {}\".format(self.pin))"
   ]
  },
  {
   "cell_type": "code",
   "execution_count": 25,
   "id": "d00f8a4a-4d64-4f2e-bc7c-3b10abc6a850",
   "metadata": {},
   "outputs": [],
   "source": [
    "tanya=ATM(3109,10000)"
   ]
  },
  {
   "cell_type": "code",
   "execution_count": 26,
   "id": "dfc6c7b9-57e4-4a2a-95e8-f60465cca704",
   "metadata": {},
   "outputs": [
    {
     "data": {
      "text/plain": [
       "3109"
      ]
     },
     "execution_count": 26,
     "metadata": {},
     "output_type": "execute_result"
    }
   ],
   "source": [
    "tanya.pin"
   ]
  },
  {
   "cell_type": "code",
   "execution_count": 27,
   "id": "1d8ceaa6-8429-48c4-b9c2-9618f5e95f5b",
   "metadata": {},
   "outputs": [
    {
     "data": {
      "text/plain": [
       "10000"
      ]
     },
     "execution_count": 27,
     "metadata": {},
     "output_type": "execute_result"
    }
   ],
   "source": [
    "tanya.balance"
   ]
  },
  {
   "cell_type": "code",
   "execution_count": 29,
   "id": "a6d78b50-50f6-4adc-afbf-b1e7fffac14e",
   "metadata": {},
   "outputs": [
    {
     "name": "stdin",
     "output_type": "stream",
     "text": [
      "enter your new pin 931\n"
     ]
    },
    {
     "name": "stdout",
     "output_type": "stream",
     "text": [
      "pin change successfully\n"
     ]
    }
   ],
   "source": [
    "tanya.change_pin()"
   ]
  },
  {
   "cell_type": "code",
   "execution_count": 30,
   "id": "b4c5bea9-b375-431d-807f-c23a72831eb3",
   "metadata": {},
   "outputs": [
    {
     "data": {
      "text/plain": [
       "'931'"
      ]
     },
     "execution_count": 30,
     "metadata": {},
     "output_type": "execute_result"
    }
   ],
   "source": [
    "tanya.pin"
   ]
  },
  {
   "cell_type": "code",
   "execution_count": 32,
   "id": "8ab0ed35-3dd5-46fb-88f8-317703976157",
   "metadata": {},
   "outputs": [
    {
     "name": "stdout",
     "output_type": "stream",
     "text": [
      "your pin is 931\n"
     ]
    }
   ],
   "source": [
    "tanya.show_pin()"
   ]
  },
  {
   "cell_type": "code",
   "execution_count": 33,
   "id": "078766b6-c178-44d1-8e28-9ec2eab73e9d",
   "metadata": {},
   "outputs": [],
   "source": [
    "class ATM:\n",
    "    def change_pin(self):                            #run without constructor\n",
    "        self.pin=input(\"enter your new pin\")\n",
    "        print(\"pin change successfully\")\n",
    "    def show_pin(self):\n",
    "        print(\"your pin is {}\".format(self.pin))"
   ]
  },
  {
   "cell_type": "code",
   "execution_count": 34,
   "id": "6f95fa1c-306c-47bc-90ce-9627e60a90b5",
   "metadata": {},
   "outputs": [],
   "source": [
    "yobhav=ATM()"
   ]
  },
  {
   "cell_type": "code",
   "execution_count": 35,
   "id": "0b98d4f0-0d7d-4e05-9740-58b65a4ed893",
   "metadata": {},
   "outputs": [
    {
     "name": "stdin",
     "output_type": "stream",
     "text": [
      "enter your new pin 3109\n"
     ]
    },
    {
     "name": "stdout",
     "output_type": "stream",
     "text": [
      "pin change successfully\n"
     ]
    }
   ],
   "source": [
    "yobhav.change_pin()"
   ]
  },
  {
   "cell_type": "code",
   "execution_count": 36,
   "id": "6fa584e2-3ca7-4e3d-87c7-5506866f6d1b",
   "metadata": {},
   "outputs": [
    {
     "data": {
      "text/plain": [
       "'3109'"
      ]
     },
     "execution_count": 36,
     "metadata": {},
     "output_type": "execute_result"
    }
   ],
   "source": [
    "yobhav.pin"
   ]
  },
  {
   "cell_type": "code",
   "execution_count": 38,
   "id": "a7a53e37-4d20-4810-a2ad-bdfdb0183cf6",
   "metadata": {},
   "outputs": [
    {
     "name": "stdout",
     "output_type": "stream",
     "text": [
      "your pin is 3109\n"
     ]
    }
   ],
   "source": [
    "yobhav.show_pin()"
   ]
  },
  {
   "cell_type": "code",
   "execution_count": null,
   "id": "96a9b377-f61c-44e5-a3b1-68e07af39d6c",
   "metadata": {},
   "outputs": [],
   "source": []
  }
 ],
 "metadata": {
  "kernelspec": {
   "display_name": "Python 3 (ipykernel)",
   "language": "python",
   "name": "python3"
  },
  "language_info": {
   "codemirror_mode": {
    "name": "ipython",
    "version": 3
   },
   "file_extension": ".py",
   "mimetype": "text/x-python",
   "name": "python",
   "nbconvert_exporter": "python",
   "pygments_lexer": "ipython3",
   "version": "3.11.5"
  }
 },
 "nbformat": 4,
 "nbformat_minor": 5
}
